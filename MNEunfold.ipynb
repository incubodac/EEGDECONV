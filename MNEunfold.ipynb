{
 "cells": [
  {
   "cell_type": "code",
   "execution_count": 1,
   "metadata": {},
   "outputs": [],
   "source": [
    "import numpy as np\n",
    "import mne\n",
    "from matplotlib import pyplot as plt \n",
    "import os\n",
    "import load\n",
    "from paths import paths\n",
    "import setup\n",
    "from functions import (start_stop_samples_trigg , start_samples_trigg, add_trial_info_to_events,\n",
    "    plot_fix_durs_mem_vs,plot_fix_durs_all_phases,closest_tuple,plot_trial, create_full_metadata)\n",
    "\n",
    "import matplotlib.image as mpimg\n",
    "import matplotlib.patches as patches\n",
    "import pandas as pd\n",
    "#%matplotlib qt"
   ]
  },
  {
   "attachments": {},
   "cell_type": "markdown",
   "metadata": {},
   "source": [
    "# Eye movement behaviour analysis"
   ]
  },
  {
   "cell_type": "code",
   "execution_count": 2,
   "metadata": {},
   "outputs": [
    {
     "data": {
      "text/plain": [
       "'analysis_20230527030338.log'"
      ]
     },
     "execution_count": 2,
     "metadata": {},
     "output_type": "execute_result"
    }
   ],
   "source": [
    "#info.initialize_logging()\n",
    "import logging\n",
    "import datetime\n",
    "log_filename = 'analysis_' + datetime.datetime.now().strftime('%Y%m%d%H%M%S') + '.log'\n",
    "#logging.basicConfig(filename=os.path.join(self.log_path, log_filename), level=logging.INFO, format='%(asctime)s - %(levelname)s - %(message)s')\n",
    "\n",
    "log_filename"
   ]
  },
  {
   "cell_type": "code",
   "execution_count": 6,
   "metadata": {},
   "outputs": [
    {
     "ename": "TypeError",
     "evalue": "subject.__init__() missing 1 required positional argument: 'exp_info'",
     "output_type": "error",
     "traceback": [
      "\u001b[0;31m---------------------------------------------------------------------------\u001b[0m",
      "\u001b[0;31mTypeError\u001b[0m                                 Traceback (most recent call last)",
      "Cell \u001b[0;32mIn[6], line 1\u001b[0m\n\u001b[0;32m----> 1\u001b[0m load\u001b[39m.\u001b[39;49msubject()\n",
      "\u001b[0;31mTypeError\u001b[0m: subject.__init__() missing 1 required positional argument: 'exp_info'"
     ]
    }
   ],
   "source": [
    "load.subject()\n"
   ]
  },
  {
   "cell_type": "code",
   "execution_count": 2,
   "metadata": {},
   "outputs": [
    {
     "name": "stdout",
     "output_type": "stream",
     "text": [
      "\n",
      "Ｌｏａｄｉｎｇ ＥＥＧ ｄａｔａ．．．．．\n",
      "        ｓｕｂｊｅｃｔ   Ｓ１０１\n",
      "\n",
      "Reading /Volumes/DAC1T/Hybrid/Hybrid_preana_out/8.data_analysis/S101_analysis.fdt\n",
      "Reading 0 ... 1769499  =      0.000 ...  3538.998 secs...\n"
     ]
    },
    {
     "name": "stderr",
     "output_type": "stream",
     "text": [
      "/Users/dac/Documents/repos/MNEdeconv/load.py:225: RuntimeWarning: Unknown types found, setting as type EEG:\n",
      "eye: ['R-AREA', 'R-GAZE-X', 'R-GAZE-Y', 'TIME']\n",
      "  raw     = mne.io.read_raw_eeglab( set_file, preload=True)\n",
      "/Users/dac/Documents/repos/MNEdeconv/load.py:225: RuntimeWarning: Estimated head radius (0.1 cm) is below the 3rd percentile for infant head size. Check if the montage_units argument is correct (the default is \"mm\", but your channel positions may be in different units).\n",
      "  raw     = mne.io.read_raw_eeglab( set_file, preload=True)\n",
      "/Users/dac/Documents/repos/MNEdeconv/load.py:225: RuntimeWarning: Not setting positions of 8 misc channels found in montage:\n",
      "['EXG1', 'EXG2', 'EXG3', 'EXG4', 'EXG5', 'EXG6', 'EXG7', 'EXG8']\n",
      "Consider setting the channel types to be of EEG/sEEG/ECoG/DBS/fNIRS using inst.set_channel_types before calling inst.set_montage, or omit these channels when creating your montage.\n",
      "  raw     = mne.io.read_raw_eeglab( set_file, preload=True)\n"
     ]
    },
    {
     "name": "stdout",
     "output_type": "stream",
     "text": [
      "\n",
      "Ｌｏａｄｉｎｇ ｅｖｅｎｔｓ ｄａｔａ．．．．．\n",
      "        ｆｒｏｍ\n",
      "\n",
      "/Ｖｏｌｕｍｅｓ/ＤＡＣ１Ｔ/Ｈｙｂｒｉｄ/Ｈｙｂｒｉｄ_ｐｒｅａｎａ_ｏｕｔ/９．ｅｖｅｎｔ_ｓｔｒｕｃｔｓ/Ｓ１０１_ｅｖｅｎｔｓ．ｃｓｖ\n",
      "\n",
      "\n",
      "Ｌｏａｄｉｎｇ ｂｅｈａｖｉｏｕｒａｌ ｄａｔａ．．．．．\n",
      "            ｆｒｏｍ   [＇１０１_ｈｙｂｒｉｄ_ｓｅａｒｃｈ_ｂｕｉｌｄｅｒ_ｃｏｄｅ_２０２１_Ｎｏｖ_２３_１０２１．ｃｓｖ＇]\n",
      "\n",
      "percentage of correct answers : 65.2\n",
      "fixations in cross1 phase : 155\n",
      "\n",
      "fixations in mem phase    : 2207\n",
      "\n",
      "fixations in cross2 phase : 484\n",
      "\n",
      "fixations in vs phase     : 5457\n",
      "\n",
      "saccade     9956\n",
      "fixation    9862\n",
      "cross1       210\n",
      "mem          210\n",
      "cross2       210\n",
      "vs           210\n",
      "bad_ET       116\n",
      "Name: type, dtype: int64\n",
      "total fixations on items    : 4128\n",
      "fixations on targets  : 270\n",
      "fixations on distractors  : 3858\n",
      "percentage of capture fixations in vs 75.6%\n"
     ]
    }
   ],
   "source": [
    "info = setup.exp_info()\n",
    "info.initialize_logging()\n",
    "metadata_path = paths().full_metadata_path()\n",
    "subjects_ids = info.subjects_ids\n",
    "#----------parameters-------------\n",
    "save_ev = True\n",
    "capturing_thr = 80\n",
    "\n",
    "\n",
    "for sub_id in [subjects_ids[0]]:\n",
    "    evts = create_full_metadata(info,sub_id,metadata_path,capturing_thr, save_ev)\n",
    "    \n",
    "    \n"
   ]
  },
  {
   "cell_type": "code",
   "execution_count": 20,
   "metadata": {},
   "outputs": [
    {
     "data": {
      "text/html": [
       "<div>\n",
       "<style scoped>\n",
       "    .dataframe tbody tr th:only-of-type {\n",
       "        vertical-align: middle;\n",
       "    }\n",
       "\n",
       "    .dataframe tbody tr th {\n",
       "        vertical-align: top;\n",
       "    }\n",
       "\n",
       "    .dataframe thead th {\n",
       "        text-align: right;\n",
       "    }\n",
       "</style>\n",
       "<table border=\"1\" class=\"dataframe\">\n",
       "  <thead>\n",
       "    <tr style=\"text-align: right;\">\n",
       "      <th></th>\n",
       "      <th>type</th>\n",
       "      <th>latency</th>\n",
       "      <th>urevent</th>\n",
       "      <th>duration</th>\n",
       "      <th>endtime</th>\n",
       "      <th>sac_amplitude</th>\n",
       "      <th>sac_endpos_x</th>\n",
       "      <th>sac_endpos_y</th>\n",
       "      <th>sac_startpos_x</th>\n",
       "      <th>sac_startpos_y</th>\n",
       "      <th>...</th>\n",
       "      <th>fix_avgpupilsize</th>\n",
       "      <th>sac_angle</th>\n",
       "      <th>trial</th>\n",
       "      <th>phase</th>\n",
       "      <th>mss</th>\n",
       "      <th>ontarget</th>\n",
       "      <th>ondistractor</th>\n",
       "      <th>present</th>\n",
       "      <th>correct</th>\n",
       "      <th>stm</th>\n",
       "    </tr>\n",
       "  </thead>\n",
       "  <tbody>\n",
       "    <tr>\n",
       "      <th>0</th>\n",
       "      <td>bad_ET</td>\n",
       "      <td>1.000000e+00</td>\n",
       "      <td>15925.0</td>\n",
       "      <td>53932</td>\n",
       "      <td>0.0</td>\n",
       "      <td>0.000000</td>\n",
       "      <td>0.000000</td>\n",
       "      <td>0.00000</td>\n",
       "      <td>0.000000</td>\n",
       "      <td>0.000000</td>\n",
       "      <td>...</td>\n",
       "      <td>0.0</td>\n",
       "      <td>0.000000</td>\n",
       "      <td>NaN</td>\n",
       "      <td>NaN</td>\n",
       "      <td>NaN</td>\n",
       "      <td>NaN</td>\n",
       "      <td>NaN</td>\n",
       "      <td>NaN</td>\n",
       "      <td>NaN</td>\n",
       "      <td>NaN</td>\n",
       "    </tr>\n",
       "    <tr>\n",
       "      <th>1</th>\n",
       "      <td>cross1</td>\n",
       "      <td>5.195000e+04</td>\n",
       "      <td>NaN</td>\n",
       "      <td>375</td>\n",
       "      <td>NaN</td>\n",
       "      <td>NaN</td>\n",
       "      <td>NaN</td>\n",
       "      <td>NaN</td>\n",
       "      <td>NaN</td>\n",
       "      <td>NaN</td>\n",
       "      <td>...</td>\n",
       "      <td>NaN</td>\n",
       "      <td>NaN</td>\n",
       "      <td>NaN</td>\n",
       "      <td>NaN</td>\n",
       "      <td>NaN</td>\n",
       "      <td>NaN</td>\n",
       "      <td>NaN</td>\n",
       "      <td>NaN</td>\n",
       "      <td>NaN</td>\n",
       "      <td>NaN</td>\n",
       "    </tr>\n",
       "    <tr>\n",
       "      <th>2</th>\n",
       "      <td>mem</td>\n",
       "      <td>5.232500e+04</td>\n",
       "      <td>NaN</td>\n",
       "      <td>1009</td>\n",
       "      <td>NaN</td>\n",
       "      <td>NaN</td>\n",
       "      <td>NaN</td>\n",
       "      <td>NaN</td>\n",
       "      <td>NaN</td>\n",
       "      <td>NaN</td>\n",
       "      <td>...</td>\n",
       "      <td>NaN</td>\n",
       "      <td>NaN</td>\n",
       "      <td>NaN</td>\n",
       "      <td>NaN</td>\n",
       "      <td>NaN</td>\n",
       "      <td>NaN</td>\n",
       "      <td>NaN</td>\n",
       "      <td>NaN</td>\n",
       "      <td>NaN</td>\n",
       "      <td>NaN</td>\n",
       "    </tr>\n",
       "    <tr>\n",
       "      <th>3</th>\n",
       "      <td>cross2</td>\n",
       "      <td>5.333300e+04</td>\n",
       "      <td>NaN</td>\n",
       "      <td>558</td>\n",
       "      <td>NaN</td>\n",
       "      <td>NaN</td>\n",
       "      <td>NaN</td>\n",
       "      <td>NaN</td>\n",
       "      <td>NaN</td>\n",
       "      <td>NaN</td>\n",
       "      <td>...</td>\n",
       "      <td>NaN</td>\n",
       "      <td>NaN</td>\n",
       "      <td>NaN</td>\n",
       "      <td>NaN</td>\n",
       "      <td>NaN</td>\n",
       "      <td>NaN</td>\n",
       "      <td>NaN</td>\n",
       "      <td>NaN</td>\n",
       "      <td>NaN</td>\n",
       "      <td>NaN</td>\n",
       "    </tr>\n",
       "    <tr>\n",
       "      <th>4</th>\n",
       "      <td>vs</td>\n",
       "      <td>5.389065e+04</td>\n",
       "      <td>11.0</td>\n",
       "      <td>820</td>\n",
       "      <td>0.0</td>\n",
       "      <td>0.000000</td>\n",
       "      <td>0.000000</td>\n",
       "      <td>0.00000</td>\n",
       "      <td>0.000000</td>\n",
       "      <td>0.000000</td>\n",
       "      <td>...</td>\n",
       "      <td>0.0</td>\n",
       "      <td>0.000000</td>\n",
       "      <td>NaN</td>\n",
       "      <td>NaN</td>\n",
       "      <td>NaN</td>\n",
       "      <td>NaN</td>\n",
       "      <td>NaN</td>\n",
       "      <td>NaN</td>\n",
       "      <td>NaN</td>\n",
       "      <td>NaN</td>\n",
       "    </tr>\n",
       "    <tr>\n",
       "      <th>...</th>\n",
       "      <td>...</td>\n",
       "      <td>...</td>\n",
       "      <td>...</td>\n",
       "      <td>...</td>\n",
       "      <td>...</td>\n",
       "      <td>...</td>\n",
       "      <td>...</td>\n",
       "      <td>...</td>\n",
       "      <td>...</td>\n",
       "      <td>...</td>\n",
       "      <td>...</td>\n",
       "      <td>...</td>\n",
       "      <td>...</td>\n",
       "      <td>...</td>\n",
       "      <td>...</td>\n",
       "      <td>...</td>\n",
       "      <td>...</td>\n",
       "      <td>...</td>\n",
       "      <td>...</td>\n",
       "      <td>...</td>\n",
       "      <td>...</td>\n",
       "    </tr>\n",
       "    <tr>\n",
       "      <th>20769</th>\n",
       "      <td>saccade</td>\n",
       "      <td>1.755452e+06</td>\n",
       "      <td>25995.0</td>\n",
       "      <td>63</td>\n",
       "      <td>0.0</td>\n",
       "      <td>3.130887</td>\n",
       "      <td>914.474609</td>\n",
       "      <td>462.30954</td>\n",
       "      <td>778.318787</td>\n",
       "      <td>358.051147</td>\n",
       "      <td>...</td>\n",
       "      <td>0.0</td>\n",
       "      <td>37.235302</td>\n",
       "      <td>210.0</td>\n",
       "      <td>cross2</td>\n",
       "      <td>1.0</td>\n",
       "      <td>NaN</td>\n",
       "      <td>NaN</td>\n",
       "      <td>True</td>\n",
       "      <td>True</td>\n",
       "      <td>NaN</td>\n",
       "    </tr>\n",
       "    <tr>\n",
       "      <th>20770</th>\n",
       "      <td>fixation</td>\n",
       "      <td>1.755515e+06</td>\n",
       "      <td>35858.0</td>\n",
       "      <td>201</td>\n",
       "      <td>0.0</td>\n",
       "      <td>3.130887</td>\n",
       "      <td>914.474609</td>\n",
       "      <td>462.30954</td>\n",
       "      <td>778.318787</td>\n",
       "      <td>358.051147</td>\n",
       "      <td>...</td>\n",
       "      <td>0.0</td>\n",
       "      <td>37.235302</td>\n",
       "      <td>210.0</td>\n",
       "      <td>cross2</td>\n",
       "      <td>1.0</td>\n",
       "      <td>NaN</td>\n",
       "      <td>NaN</td>\n",
       "      <td>True</td>\n",
       "      <td>True</td>\n",
       "      <td>NaN</td>\n",
       "    </tr>\n",
       "    <tr>\n",
       "      <th>20771</th>\n",
       "      <td>saccade</td>\n",
       "      <td>1.755716e+06</td>\n",
       "      <td>25996.0</td>\n",
       "      <td>6</td>\n",
       "      <td>0.0</td>\n",
       "      <td>0.179414</td>\n",
       "      <td>937.894836</td>\n",
       "      <td>459.48703</td>\n",
       "      <td>928.891846</td>\n",
       "      <td>451.397278</td>\n",
       "      <td>...</td>\n",
       "      <td>0.0</td>\n",
       "      <td>41.646737</td>\n",
       "      <td>210.0</td>\n",
       "      <td>cross2</td>\n",
       "      <td>1.0</td>\n",
       "      <td>NaN</td>\n",
       "      <td>NaN</td>\n",
       "      <td>True</td>\n",
       "      <td>True</td>\n",
       "      <td>NaN</td>\n",
       "    </tr>\n",
       "    <tr>\n",
       "      <th>20772</th>\n",
       "      <td>bad_ET</td>\n",
       "      <td>1.755816e+06</td>\n",
       "      <td>16040.0</td>\n",
       "      <td>13685</td>\n",
       "      <td>0.0</td>\n",
       "      <td>0.000000</td>\n",
       "      <td>0.000000</td>\n",
       "      <td>0.00000</td>\n",
       "      <td>0.000000</td>\n",
       "      <td>0.000000</td>\n",
       "      <td>...</td>\n",
       "      <td>0.0</td>\n",
       "      <td>0.000000</td>\n",
       "      <td>NaN</td>\n",
       "      <td>NaN</td>\n",
       "      <td>NaN</td>\n",
       "      <td>NaN</td>\n",
       "      <td>NaN</td>\n",
       "      <td>NaN</td>\n",
       "      <td>NaN</td>\n",
       "      <td>NaN</td>\n",
       "    </tr>\n",
       "    <tr>\n",
       "      <th>20773</th>\n",
       "      <td>vs</td>\n",
       "      <td>1.755873e+06</td>\n",
       "      <td>867.0</td>\n",
       "      <td>547</td>\n",
       "      <td>0.0</td>\n",
       "      <td>0.000000</td>\n",
       "      <td>0.000000</td>\n",
       "      <td>0.00000</td>\n",
       "      <td>0.000000</td>\n",
       "      <td>0.000000</td>\n",
       "      <td>...</td>\n",
       "      <td>0.0</td>\n",
       "      <td>0.000000</td>\n",
       "      <td>NaN</td>\n",
       "      <td>NaN</td>\n",
       "      <td>NaN</td>\n",
       "      <td>NaN</td>\n",
       "      <td>NaN</td>\n",
       "      <td>NaN</td>\n",
       "      <td>NaN</td>\n",
       "      <td>NaN</td>\n",
       "    </tr>\n",
       "  </tbody>\n",
       "</table>\n",
       "<p>20774 rows × 23 columns</p>\n",
       "</div>"
      ],
      "text/plain": [
       "           type       latency  urevent  duration  endtime  sac_amplitude  \\\n",
       "0        bad_ET  1.000000e+00  15925.0     53932      0.0       0.000000   \n",
       "1        cross1  5.195000e+04      NaN       375      NaN            NaN   \n",
       "2           mem  5.232500e+04      NaN      1009      NaN            NaN   \n",
       "3        cross2  5.333300e+04      NaN       558      NaN            NaN   \n",
       "4            vs  5.389065e+04     11.0       820      0.0       0.000000   \n",
       "...         ...           ...      ...       ...      ...            ...   \n",
       "20769   saccade  1.755452e+06  25995.0        63      0.0       3.130887   \n",
       "20770  fixation  1.755515e+06  35858.0       201      0.0       3.130887   \n",
       "20771   saccade  1.755716e+06  25996.0         6      0.0       0.179414   \n",
       "20772    bad_ET  1.755816e+06  16040.0     13685      0.0       0.000000   \n",
       "20773        vs  1.755873e+06    867.0       547      0.0       0.000000   \n",
       "\n",
       "       sac_endpos_x  sac_endpos_y  sac_startpos_x  sac_startpos_y  ...  \\\n",
       "0          0.000000       0.00000        0.000000        0.000000  ...   \n",
       "1               NaN           NaN             NaN             NaN  ...   \n",
       "2               NaN           NaN             NaN             NaN  ...   \n",
       "3               NaN           NaN             NaN             NaN  ...   \n",
       "4          0.000000       0.00000        0.000000        0.000000  ...   \n",
       "...             ...           ...             ...             ...  ...   \n",
       "20769    914.474609     462.30954      778.318787      358.051147  ...   \n",
       "20770    914.474609     462.30954      778.318787      358.051147  ...   \n",
       "20771    937.894836     459.48703      928.891846      451.397278  ...   \n",
       "20772      0.000000       0.00000        0.000000        0.000000  ...   \n",
       "20773      0.000000       0.00000        0.000000        0.000000  ...   \n",
       "\n",
       "       fix_avgpupilsize  sac_angle  trial   phase  mss  ontarget ondistractor  \\\n",
       "0                   0.0   0.000000    NaN     NaN  NaN       NaN          NaN   \n",
       "1                   NaN        NaN    NaN     NaN  NaN       NaN          NaN   \n",
       "2                   NaN        NaN    NaN     NaN  NaN       NaN          NaN   \n",
       "3                   NaN        NaN    NaN     NaN  NaN       NaN          NaN   \n",
       "4                   0.0   0.000000    NaN     NaN  NaN       NaN          NaN   \n",
       "...                 ...        ...    ...     ...  ...       ...          ...   \n",
       "20769               0.0  37.235302  210.0  cross2  1.0       NaN          NaN   \n",
       "20770               0.0  37.235302  210.0  cross2  1.0       NaN          NaN   \n",
       "20771               0.0  41.646737  210.0  cross2  1.0       NaN          NaN   \n",
       "20772               0.0   0.000000    NaN     NaN  NaN       NaN          NaN   \n",
       "20773               0.0   0.000000    NaN     NaN  NaN       NaN          NaN   \n",
       "\n",
       "       present correct  stm  \n",
       "0          NaN     NaN  NaN  \n",
       "1          NaN     NaN  NaN  \n",
       "2          NaN     NaN  NaN  \n",
       "3          NaN     NaN  NaN  \n",
       "4          NaN     NaN  NaN  \n",
       "...        ...     ...  ...  \n",
       "20769     True    True  NaN  \n",
       "20770     True    True  NaN  \n",
       "20771     True    True  NaN  \n",
       "20772      NaN     NaN  NaN  \n",
       "20773      NaN     NaN  NaN  \n",
       "\n",
       "[20774 rows x 23 columns]"
      ]
     },
     "execution_count": 20,
     "metadata": {},
     "output_type": "execute_result"
    }
   ],
   "source": [
    "evts#plot_trial(eeg,suj,31)"
   ]
  },
  {
   "cell_type": "code",
   "execution_count": 13,
   "metadata": {},
   "outputs": [
    {
     "name": "stdout",
     "output_type": "stream",
     "text": [
      "Not setting metadata\n",
      "1597 matching events found\n",
      "Setting baseline interval to [-0.2, 0.0] sec\n",
      "Applying baseline correction (mode: mean)\n",
      "0 projection items activated\n",
      "Using data from preloaded Raw for 1597 events and 251 original time points ...\n"
     ]
    },
    {
     "name": "stderr",
     "output_type": "stream",
     "text": [
      "/var/folders/gf/gp61rxzn3pz1rqw464l71d7w0000gn/T/ipykernel_86321/1182897004.py:4: DeprecationWarning: `np.int` is a deprecated alias for the builtin `int`. To silence this warning, use `int` by itself. Doing this will not modify any behavior and is safe. When replacing `np.int`, you may wish to use e.g. `np.int64` or `np.int32` to specify the precision. If you wish to review your current use, check the release note link for additional information.\n",
      "Deprecated in NumPy 1.20; for more details and guidance: https://numpy.org/devdocs/release/1.20.0-notes.html#deprecations\n",
      "  event = [ (np.int(record[1]),0,1) for record in  ev_fix.to_records(index=False) if 600>record[3]>100]\n"
     ]
    },
    {
     "name": "stdout",
     "output_type": "stream",
     "text": [
      "2 bad epochs dropped\n"
     ]
    }
   ],
   "source": [
    "#make epochs from fixations in different experimental phases\n",
    "ev_fix = evts[(evts['type']=='fixation') & (evts['phase']=='vs') & (evts['ondistractor']==1)]\n",
    "#ev_fix = ev_fix.iloc[np.where(ev_fix['latency'].diff()>50)] #limit overlap\n",
    "event = [ (np.int(record[1]),0,1) for record in  ev_fix.to_records(index=False) if 600>record[3]>100]\n",
    "epochs = mne.Epochs(eeg, event, 1, tmin=-0.2, tmax=0.3, reject_by_annotation=True,\n",
    "                    preload=True)\n",
    "#epochs.plot_drop_log()\n",
    "\n",
    "\n"
   ]
  },
  {
   "cell_type": "code",
   "execution_count": null,
   "metadata": {},
   "outputs": [],
   "source": [
    "from mpl_toolkits.mplot3d import Axes3D  # noqa\n",
    "\n",
    "#epochs['1'].plot_image(picks='B9', combine='mean')\n",
    "mne.viz.plot_alignment(eeg.info,eeg='original')"
   ]
  },
  {
   "cell_type": "code",
   "execution_count": 1,
   "metadata": {},
   "outputs": [
    {
     "ename": "NameError",
     "evalue": "name 'epochs' is not defined",
     "output_type": "error",
     "traceback": [
      "\u001b[0;31m---------------------------------------------------------------------------\u001b[0m",
      "\u001b[0;31mNameError\u001b[0m                                 Traceback (most recent call last)",
      "Cell \u001b[0;32mIn[1], line 3\u001b[0m\n\u001b[1;32m      1\u001b[0m get_ipython()\u001b[39m.\u001b[39mrun_line_magic(\u001b[39m'\u001b[39m\u001b[39mmatplotlib\u001b[39m\u001b[39m'\u001b[39m, \u001b[39m'\u001b[39m\u001b[39minline\u001b[39m\u001b[39m'\u001b[39m)\n\u001b[1;32m      2\u001b[0m \u001b[39m#%matplotlib qt\u001b[39;00m\n\u001b[0;32m----> 3\u001b[0m evoked \u001b[39m=\u001b[39m epochs\u001b[39m.\u001b[39maverage(picks\u001b[39m=\u001b[39m\u001b[39mrange\u001b[39m(\u001b[39m128\u001b[39m))\n\u001b[1;32m      4\u001b[0m \u001b[39m# Plot the average response for each channel in the same figure\u001b[39;00m\n\u001b[1;32m      5\u001b[0m evoked\u001b[39m.\u001b[39mplot(spatial_colors\u001b[39m=\u001b[39m\u001b[39mTrue\u001b[39;00m, gfp\u001b[39m=\u001b[39m\u001b[39mTrue\u001b[39;00m)\n",
      "\u001b[0;31mNameError\u001b[0m: name 'epochs' is not defined"
     ]
    }
   ],
   "source": [
    "%matplotlib inline\n",
    "#%matplotlib qt\n",
    "evoked = epochs.average(picks=range(128))\n",
    "# Plot the average response for each channel in the same figure\n",
    "evoked.plot(spatial_colors=True, gfp=True)"
   ]
  },
  {
   "cell_type": "code",
   "execution_count": 27,
   "metadata": {},
   "outputs": [
    {
     "data": {
      "image/png": "[encoded data removed]",
      "text/plain": [
       "<Figure size 1500x500 with 6 Axes>"
      ]
     },
     "metadata": {},
     "output_type": "display_data"
    },
    {
     "ename": "",
     "evalue": "",
     "output_type": "error",
     "traceback": [
      "\u001b[1;31mThe Kernel crashed while executing code in the the current cell or a previous cell. Please review the code in the cell(s) to identify a possible cause of the failure. Click <a href='https://aka.ms/vscodeJupyterKernelCrash'>here</a> for more info. View Jupyter <a href='command:jupyter.viewOutput'>log</a> for further details."
     ]
    }
   ],
   "source": [
    "fig = plt.figure(figsize=(15, 5))\n",
    "\n",
    "# 1st row Topoplots\n",
    "ax1 = fig.add_axes([0.05, 0.6, 0.15, 0.3])\n",
    "ax2 = fig.add_axes([0.225, 0.6, 0.15, 0.3])\n",
    "ax3 = fig.add_axes([0.4, 0.6, 0.15, 0.3])\n",
    "ax4 = fig.add_axes([0.575, 0.6, 0.15, 0.3])\n",
    "ax5 = fig.add_axes([0.75,  0.6, 0.15, 0.3])\n",
    "\n",
    "# 2nd row PSD\n",
    "ax6 = fig.add_axes([0.15,  0.1, 0.7, 0.4])\n",
    "\n",
    "# Group axes\n",
    "axs_topo = [ax1, ax2, ax3, ax4, ax5]\n",
    "ax_psd = ax6"
   ]
  },
  {
   "cell_type": "code",
   "execution_count": 6,
   "metadata": {},
   "outputs": [
    {
     "ename": "NameError",
     "evalue": "name 'ev_fix' is not defined",
     "output_type": "error",
     "traceback": [
      "\u001b[0;31m---------------------------------------------------------------------------\u001b[0m",
      "\u001b[0;31mNameError\u001b[0m                                 Traceback (most recent call last)",
      "Cell \u001b[0;32mIn[6], line 1\u001b[0m\n\u001b[0;32m----> 1\u001b[0m np\u001b[39m.\u001b[39mwhere(ev_fix[\u001b[39m'\u001b[39m\u001b[39mlatency\u001b[39m\u001b[39m'\u001b[39m]\u001b[39m.\u001b[39mdiff()\u001b[39m>\u001b[39m\u001b[39m80\u001b[39m)\n",
      "\u001b[0;31mNameError\u001b[0m: name 'ev_fix' is not defined"
     ]
    }
   ],
   "source": [
    "np.where(ev_fix['latency'].diff()>80)"
   ]
  },
  {
   "cell_type": "code",
   "execution_count": 7,
   "metadata": {},
   "outputs": [
    {
     "data": {
      "text/plain": [
       "array([0.75 , 0.75 , 0.75 , 0.752, 0.75 , 0.752, 0.75 , 0.75 , 0.75 ,\n",
       "       0.75 , 0.75 , 0.75 , 0.75 , 0.75 , 0.75 , 0.752, 0.75 , 0.75 ,\n",
       "       0.75 , 0.752, 0.75 , 0.75 , 0.752, 0.75 , 0.75 , 0.75 , 0.75 ,\n",
       "       0.75 , 0.75 , 0.752, 0.752, 0.75 , 0.75 , 0.752, 0.75 , 0.75 ,\n",
       "       0.75 , 0.75 , 0.75 , 0.752, 0.752, 0.75 , 0.75 , 0.75 , 0.75 ,\n",
       "       0.75 , 0.75 , 0.75 , 0.752, 0.752, 0.752, 0.75 , 0.75 , 0.714,\n",
       "       0.75 , 0.632, 0.746, 0.642, 0.71 , 0.696, 0.582, 0.66 , 0.558,\n",
       "       0.642, 0.57 , 0.626, 0.532, 0.592, 0.51 , 0.556, 0.47 , 0.402,\n",
       "       0.386, 0.474, 0.38 , 0.432, 0.324, 0.414, 0.326, 0.384, 0.308,\n",
       "       0.338, 0.256, 0.322, 0.154, 0.184, 0.206, 0.104, 0.22 , 0.102,\n",
       "       0.144, 0.15 , 0.058, 0.036, 0.142, 0.032, 0.002, 0.042, 0.002,\n",
       "       0.002, 0.002, 0.002, 0.002, 0.002, 0.002, 0.002, 0.002, 0.002,\n",
       "       0.002, 0.002, 0.002, 0.002, 0.002, 0.002, 0.002, 0.002, 0.002,\n",
       "       0.002, 0.002, 0.   , 0.002, 0.002, 0.002, 0.002, 0.002, 0.002,\n",
       "       0.002, 0.002, 0.002, 0.002, 0.002, 0.   , 0.   , 0.002, 0.002,\n",
       "       0.002, 0.   , 0.002, 0.002, 0.002, 0.002, 0.002, 0.002, 0.002,\n",
       "       0.002, 0.   , 0.002, 0.002, 0.002, 0.   , 0.002, 0.002, 0.002,\n",
       "       0.002, 0.002, 0.002, 0.002, 0.002, 0.002, 0.002, 0.002, 0.002,\n",
       "       0.002, 0.002, 0.002, 0.002, 0.002, 0.002, 0.002, 0.002, 0.002,\n",
       "       0.002, 0.002, 0.002, 0.002, 0.002, 0.002, 0.002, 0.002, 0.002,\n",
       "       0.002, 0.002, 0.002, 0.002, 0.002, 0.002, 0.   , 0.002, 0.002,\n",
       "       0.002, 0.002, 0.   , 0.002, 0.002, 0.002, 0.002, 0.002, 0.002,\n",
       "       0.002, 0.002, 0.002, 0.002, 0.002, 0.   , 0.002, 0.002, 0.002,\n",
       "       0.002, 0.002, 0.002])"
      ]
     },
     "execution_count": 7,
     "metadata": {},
     "output_type": "execute_result"
    }
   ],
   "source": [
    "#check duration of each phase , make function to see all the results as a df\n",
    "xstar_samp, xstop_samp = start_stop_samples_trigg(evts,'cross1')\n",
    "(xstop_samp-xstar_samp)/500\n"
   ]
  },
  {
   "cell_type": "code",
   "execution_count": 11,
   "metadata": {},
   "outputs": [],
   "source": [
    "#epochs.plot_image(picks=range(128), combine='gfp')"
   ]
  },
  {
   "cell_type": "code",
   "execution_count": 10,
   "metadata": {},
   "outputs": [
    {
     "data": {
      "text/plain": [
       "<Annotations | 20144 segments: 250 (210), bad_ET (116), fixation (9862), ...>"
      ]
     },
     "execution_count": 10,
     "metadata": {},
     "output_type": "execute_result"
    }
   ],
   "source": [
    "eeg.annotations"
   ]
  },
  {
   "cell_type": "code",
   "execution_count": 79,
   "metadata": {},
   "outputs": [
    {
     "data": {
      "text/plain": [
       "(True, array([0]))"
      ]
     },
     "execution_count": 79,
     "metadata": {},
     "output_type": "execute_result"
    }
   ],
   "source": [
    "is_close_to_any_point(point[0], point[1], tuples, threshold)"
   ]
  },
  {
   "cell_type": "code",
   "execution_count": 8,
   "metadata": {},
   "outputs": [
    {
     "ename": "NameError",
     "evalue": "name 'ax2d' is not defined",
     "output_type": "error",
     "traceback": [
      "\u001b[0;31m---------------------------------------------------------------------------\u001b[0m",
      "\u001b[0;31mNameError\u001b[0m                                 Traceback (most recent call last)",
      "Cell \u001b[0;32mIn[8], line 1\u001b[0m\n\u001b[0;32m----> 1\u001b[0m eeg\u001b[39m.\u001b[39mplot_sensors(ch_type\u001b[39m=\u001b[39m\u001b[39m'\u001b[39m\u001b[39meeg\u001b[39m\u001b[39m'\u001b[39m, axes\u001b[39m=\u001b[39max2d)\n",
      "\u001b[0;31mNameError\u001b[0m: name 'ax2d' is not defined"
     ]
    }
   ],
   "source": [
    "eeg.plot_sensors(ch_type='eeg', axes=ax2d)"
   ]
  },
  {
   "cell_type": "code",
   "execution_count": 230,
   "metadata": {},
   "outputs": [
    {
     "data": {
      "text/html": [
       "<div>\n",
       "<style scoped>\n",
       "    .dataframe tbody tr th:only-of-type {\n",
       "        vertical-align: middle;\n",
       "    }\n",
       "\n",
       "    .dataframe tbody tr th {\n",
       "        vertical-align: top;\n",
       "    }\n",
       "\n",
       "    .dataframe thead th {\n",
       "        text-align: right;\n",
       "    }\n",
       "</style>\n",
       "<table border=\"1\" class=\"dataframe\">\n",
       "  <thead>\n",
       "    <tr style=\"text-align: right;\">\n",
       "      <th></th>\n",
       "      <th>fix_avgpos_x</th>\n",
       "      <th>fix_avgpos_y</th>\n",
       "    </tr>\n",
       "  </thead>\n",
       "  <tbody>\n",
       "    <tr>\n",
       "      <th>20770</th>\n",
       "      <td>921.710205</td>\n",
       "      <td>454.382111</td>\n",
       "    </tr>\n",
       "  </tbody>\n",
       "</table>\n",
       "</div>"
      ],
      "text/plain": [
       "       fix_avgpos_x  fix_avgpos_y\n",
       "20770    921.710205    454.382111"
      ]
     },
     "execution_count": 230,
     "metadata": {},
     "output_type": "execute_result"
    }
   ],
   "source": [
    " evts[evts['latency']==i][['fix_avgpos_x','fix_avgpos_y']]"
   ]
  },
  {
   "cell_type": "code",
   "execution_count": 211,
   "metadata": {},
   "outputs": [
    {
     "data": {
      "text/html": [
       "<div>\n",
       "<style scoped>\n",
       "    .dataframe tbody tr th:only-of-type {\n",
       "        vertical-align: middle;\n",
       "    }\n",
       "\n",
       "    .dataframe tbody tr th {\n",
       "        vertical-align: top;\n",
       "    }\n",
       "\n",
       "    .dataframe thead th {\n",
       "        text-align: right;\n",
       "    }\n",
       "</style>\n",
       "<table border=\"1\" class=\"dataframe\">\n",
       "  <thead>\n",
       "    <tr style=\"text-align: right;\">\n",
       "      <th></th>\n",
       "      <th>preset</th>\n",
       "      <th>key</th>\n",
       "    </tr>\n",
       "  </thead>\n",
       "  <tbody>\n",
       "    <tr>\n",
       "      <th>0</th>\n",
       "      <td>False</td>\n",
       "      <td>False</td>\n",
       "    </tr>\n",
       "    <tr>\n",
       "      <th>6</th>\n",
       "      <td>True</td>\n",
       "      <td>True</td>\n",
       "    </tr>\n",
       "    <tr>\n",
       "      <th>12</th>\n",
       "      <td>True</td>\n",
       "      <td>True</td>\n",
       "    </tr>\n",
       "    <tr>\n",
       "      <th>18</th>\n",
       "      <td>True</td>\n",
       "      <td>True</td>\n",
       "    </tr>\n",
       "    <tr>\n",
       "      <th>24</th>\n",
       "      <td>True</td>\n",
       "      <td>True</td>\n",
       "    </tr>\n",
       "    <tr>\n",
       "      <th>...</th>\n",
       "      <td>...</td>\n",
       "      <td>...</td>\n",
       "    </tr>\n",
       "    <tr>\n",
       "      <th>1230</th>\n",
       "      <td>True</td>\n",
       "      <td>True</td>\n",
       "    </tr>\n",
       "    <tr>\n",
       "      <th>1236</th>\n",
       "      <td>True</td>\n",
       "      <td>True</td>\n",
       "    </tr>\n",
       "    <tr>\n",
       "      <th>1242</th>\n",
       "      <td>False</td>\n",
       "      <td>False</td>\n",
       "    </tr>\n",
       "    <tr>\n",
       "      <th>1248</th>\n",
       "      <td>False</td>\n",
       "      <td>False</td>\n",
       "    </tr>\n",
       "    <tr>\n",
       "      <th>1254</th>\n",
       "      <td>True</td>\n",
       "      <td>True</td>\n",
       "    </tr>\n",
       "  </tbody>\n",
       "</table>\n",
       "<p>210 rows × 2 columns</p>\n",
       "</div>"
      ],
      "text/plain": [
       "      preset    key\n",
       "0      False  False\n",
       "6       True   True\n",
       "12      True   True\n",
       "18      True   True\n",
       "24      True   True\n",
       "...      ...    ...\n",
       "1230    True   True\n",
       "1236    True   True\n",
       "1242   False  False\n",
       "1248   False  False\n",
       "1254    True   True\n",
       "\n",
       "[210 rows x 2 columns]"
      ]
     },
     "execution_count": 211,
     "metadata": {},
     "output_type": "execute_result"
    }
   ],
   "source": [
    "keyRight  =bh_data.loc[::6,'corrAns'][:-1]=='right'\n",
    "presents = list(bh_data.loc[::6,'st5_cat']=='T')\n",
    "sum(presents[:-1]==keyRight)\n",
    "pp=pd.DataFrame({'preset':presents[:-1],'key':keyRight})\n",
    "pp"
   ]
  },
  {
   "cell_type": "code",
   "execution_count": 213,
   "metadata": {},
   "outputs": [
    {
     "data": {
      "text/plain": [
       "210"
      ]
     },
     "execution_count": 213,
     "metadata": {},
     "output_type": "execute_result"
    }
   ],
   "source": [
    "sum(keyRight)\n",
    "len(keyRight)"
   ]
  },
  {
   "cell_type": "code",
   "execution_count": 1,
   "metadata": {},
   "outputs": [],
   "source": [
    "#pp[~( presents[:-1]==keyRight)]\n",
    "#cmp_shelves_108_teddybear_021.jpg\n",
    "#cmp_building_057_dog_014.jpg\n",
    "#REMEMBER CORR ANS IS WRONG FOR THIS TWO\n",
    "#and \n",
    "#Dog1962 T and cmp_meadow_001_dog_001 IT IS NOT target present I mean , the presumed target is not present in the imagesearch\n",
    "#it should be hardcoded as Absent condition always"
   ]
  },
  {
   "cell_type": "code",
   "execution_count": 4,
   "metadata": {},
   "outputs": [],
   "source": [
    "paths().results_path()\n",
    "info = setup.exp_info()\n"
   ]
  },
  {
   "cell_type": "code",
   "execution_count": 9,
   "metadata": {},
   "outputs": [
    {
     "data": {
      "text/plain": [
       "['S101',\n",
       " 'S102',\n",
       " 'S103',\n",
       " 'S104',\n",
       " 'S105',\n",
       " 'S106',\n",
       " 'S107',\n",
       " 'S108',\n",
       " 'S109',\n",
       " 'S110',\n",
       " 'S111',\n",
       " 'S112',\n",
       " 'S113',\n",
       " 'S114',\n",
       " 'S115',\n",
       " 'S116',\n",
       " 'S117',\n",
       " 'S118',\n",
       " 'S119']"
      ]
     },
     "execution_count": 9,
     "metadata": {},
     "output_type": "execute_result"
    }
   ],
   "source": [
    "info.subjects_ids"
   ]
  },
  {
   "cell_type": "code",
   "execution_count": 6,
   "metadata": {},
   "outputs": [
    {
     "name": "stdout",
     "output_type": "stream",
     "text": [
      "percentage of correct answers : 65.2\n",
      "fixations in cross1 phase : 155\n",
      "\n",
      "fixations in mem phase    : 2207\n",
      "\n",
      "fixations in cross2 phase : 484\n",
      "\n",
      "fixations in vs phase     : 5457\n",
      "\n",
      "saccade     9956\n",
      "fixation    9862\n",
      "cross1       210\n",
      "mem          210\n",
      "cross2       210\n",
      "vs           210\n",
      "bad_ET       116\n",
      "Name: type, dtype: int64\n",
      "total fixations on items    : 4663\n",
      "fixations on targets  : 303\n",
      "fixations on distractors  : 4360\n",
      "percentage of capture fixations in vs 85.4%\n"
     ]
    },
    {
     "ename": "NameError",
     "evalue": "name 'logger' is not defined",
     "output_type": "error",
     "traceback": [
      "\u001b[0;31m---------------------------------------------------------------------------\u001b[0m",
      "\u001b[0;31mNameError\u001b[0m                                 Traceback (most recent call last)",
      "Cell \u001b[0;32mIn[6], line 1\u001b[0m\n\u001b[0;32m----> 1\u001b[0m evts \u001b[39m=\u001b[39m add_trial_info_to_events(evts,bh_data,\u001b[39m100\u001b[39;49m)\n",
      "File \u001b[0;32m~/Documents/repos/MNEdeconv/functions.py:176\u001b[0m, in \u001b[0;36madd_trial_info_to_events\u001b[0;34m(evts, bh_data, thr)\u001b[0m\n\u001b[1;32m    172\u001b[0m \u001b[39mprint\u001b[39m(\u001b[39mf\u001b[39m\u001b[39m'\u001b[39m\u001b[39mfixations on distractors  : \u001b[39m\u001b[39m{\u001b[39;00mon_distractors\u001b[39m}\u001b[39;00m\u001b[39m'\u001b[39m) \n\u001b[1;32m    173\u001b[0m \u001b[39mprint\u001b[39m(\u001b[39mf\u001b[39m\u001b[39m'\u001b[39m\u001b[39mpercentage of capture fixations in vs \u001b[39m\u001b[39m{\u001b[39;00mtotal_item_fixed\u001b[39m:\u001b[39;00m\u001b[39m.1f\u001b[39m\u001b[39m}\u001b[39;00m\u001b[39m%\u001b[39m\u001b[39m'\u001b[39m)\n\u001b[0;32m--> 176\u001b[0m logger\u001b[39m.\u001b[39minfo(\u001b[39m\"\u001b[39m\u001b[39mPercentage of correct answers: \u001b[39m\u001b[39m%.1f\u001b[39;00m\u001b[39m \u001b[39m\u001b[39m%%\u001b[39;00m\u001b[39m\"\u001b[39m, answer_acc)\n\u001b[1;32m    177\u001b[0m logger\u001b[39m.\u001b[39minfo(\u001b[39m\"\u001b[39m\u001b[39mCross1: \u001b[39m\u001b[39m%d\u001b[39;00m\u001b[39m\"\u001b[39m, cross1_counts)\n\u001b[1;32m    178\u001b[0m logger\u001b[39m.\u001b[39minfo(\u001b[39m\"\u001b[39m\u001b[39mMem: \u001b[39m\u001b[39m%d\u001b[39;00m\u001b[39m\"\u001b[39m, mem_counts)\n",
      "\u001b[0;31mNameError\u001b[0m: name 'logger' is not defined"
     ]
    }
   ],
   "source": [
    "evts = add_trial_info_to_events(evts,bh_data,100)\n"
   ]
  },
  {
   "cell_type": "code",
   "execution_count": 10,
   "metadata": {},
   "outputs": [],
   "source": [
    "logger = logging.getLogger()\n",
    "logger.info(\"Percentage of correct answers: %.1f %%\", 33)\n"
   ]
  },
  {
   "cell_type": "code",
   "execution_count": 20,
   "metadata": {},
   "outputs": [
    {
     "data": {
      "text/html": [
       "<table class=\"table table-hover table-striped table-sm table-responsive small\">\n",
       "    <tr>\n",
       "        <th>Measurement date</th>\n",
       "        \n",
       "        <td>Unknown</td>\n",
       "        \n",
       "    </tr>\n",
       "    <tr>\n",
       "        <th>Experimenter</th>\n",
       "        \n",
       "        <td>Unknown</td>\n",
       "        \n",
       "    </tr>\n",
       "        <th>Participant</th>\n",
       "        \n",
       "        <td>Unknown</td>\n",
       "        \n",
       "    </tr>\n",
       "    <tr>\n",
       "        <th>Digitized points</th>\n",
       "        \n",
       "        <td>131 points</td>\n",
       "        \n",
       "    </tr>\n",
       "    <tr>\n",
       "        <th>Good channels</th>\n",
       "        <td>140 EEG, 8 misc</td>\n",
       "    </tr>\n",
       "    <tr>\n",
       "        <th>Bad channels</th>\n",
       "        <td>None</td>\n",
       "    </tr>\n",
       "    <tr>\n",
       "        <th>EOG channels</th>\n",
       "        <td>Not available</td>\n",
       "    </tr>\n",
       "    <tr>\n",
       "        <th>ECG channels</th>\n",
       "        <td>Not available</td>\n",
       "    \n",
       "    <tr>\n",
       "        <th>Sampling frequency</th>\n",
       "        <td>500.00 Hz</td>\n",
       "    </tr>\n",
       "    \n",
       "    \n",
       "    <tr>\n",
       "        <th>Highpass</th>\n",
       "        <td>0.00 Hz</td>\n",
       "    </tr>\n",
       "    \n",
       "    \n",
       "    <tr>\n",
       "        <th>Lowpass</th>\n",
       "        <td>250.00 Hz</td>\n",
       "    </tr>\n",
       "    \n",
       "    \n",
       "    \n",
       "    <tr>\n",
       "        <th>Filenames</th>\n",
       "        <td>S101_analysis.fdt</td>\n",
       "    </tr>\n",
       "    \n",
       "    <tr>\n",
       "        <th>Duration</th>\n",
       "        <td>00:58:59 (HH:MM:SS)</td>\n",
       "    </tr>\n",
       "</table>"
      ],
      "text/plain": [
       "<RawEEGLAB | S101_analysis.fdt, 148 x 1769500 (3539.0 s), ~1.95 GB, data loaded>"
      ]
     },
     "execution_count": 20,
     "metadata": {},
     "output_type": "execute_result"
    }
   ],
   "source": [
    "eeg"
   ]
  },
  {
   "cell_type": "code",
   "execution_count": 3,
   "metadata": {},
   "outputs": [
    {
     "name": "stdout",
     "output_type": "stream",
     "text": [
      "Engine started\n"
     ]
    }
   ],
   "source": [
    "class eye_movements:\n",
    "    def __init__(self):\n",
    "        self.suj = suj.subject_id\n",
    "        self.metadata_file_path =  os.path.join(paths().full_metadata_path(),f'{suj.subject_id}_full_metadata.csv')\n",
    "        self.stats = self.Stats()\n",
    "        self.all_fixations = self.All_fixations\n",
    "        self.all_saccades = \n",
    "    \n",
    "    def plot(self):\n",
    "        self.stats.plot(self.all_fixations,self.all_saccades)\n",
    "\n",
    "    class Stats:\n",
    "        def __init__(self):\n",
    "            \n",
    "            \n",
    "        def start(self,):\n",
    "            print(\"Engine started\")\n",
    "        \n",
    "        \n",
    "\n",
    "\n",
    "my_car = Car(\"Toyota\", \"Camry\")\n",
    "my_car.start()\n"
   ]
  },
  {
   "cell_type": "code",
   "execution_count": 4,
   "metadata": {},
   "outputs": [],
   "source": [
    "info = setup.exp_info()\n",
    "info.initialize_logging()\n",
    "metadata_path = paths().full_metadata_path()\n",
    "subjects_ids = info.subjects_ids\n",
    "#----------parameters-------------\n",
    "all_fixations = pd.DataFrame()  # Initialize an empty DataFrame\n",
    "all_saccades = pd.DataFrame()\n",
    "for sub_id in [subjects_ids[0]]:\n",
    "    eventos = pd.read_csv(os.path.join(metadata_path,f'{sub_id}_full_metadata.csv'))\n",
    "    fixations_tmp = eventos[(eventos['type']=='fixation') & (eventos['phase']=='vs')]\n",
    "    saccades_tmp = eventos[(eventos['type']=='saccade') & (eventos['phase']=='vs')]\n",
    "    all_fixations = all_fixations.append(fixations_tmp, ignore_index=True)\n",
    "    all_saccades = all_saccades.append(saccades_tmp, ignore_index=True)\n",
    "\n",
    "#all_fixations all_saccades\n"
   ]
  },
  {
   "cell_type": "code",
   "execution_count": 23,
   "metadata": {},
   "outputs": [
    {
     "name": "stderr",
     "output_type": "stream",
     "text": [
      "/var/folders/gf/gp61rxzn3pz1rqw464l71d7w0000gn/T/ipykernel_89706/1320708785.py:1: FutureWarning: The frame.append method is deprecated and will be removed from pandas in a future version. Use pandas.concat instead.\n",
      "  all_fixations= all_fixations.append(fixations_tmp, ignore_index=True)\n"
     ]
    }
   ],
   "source": [
    "all_fixations= all_fixations.append(fixations_tmp, ignore_index=True)\n"
   ]
  },
  {
   "cell_type": "code",
   "execution_count": 16,
   "metadata": {},
   "outputs": [
    {
     "data": {
      "image/png": "[encoded data removed]",
      "text/plain": [
       "<Figure size 640x480 with 1 Axes>"
      ]
     },
     "metadata": {},
     "output_type": "display_data"
    }
   ],
   "source": [
    "plt.hist(fixations_tmp['duration'], bins=100, alpha=0.5, label='Saccade Durations')\n",
    "plt.hist(saccades_tmp['duration'], bins=100, alpha=0.5, label='Fixation Durations')\n",
    "\n",
    "# Adding labels and title\n",
    "plt.xlabel('Duration')\n",
    "plt.ylabel('Cases')\n",
    "plt.title('Histogram of Saccade and Fixation Durations')\n",
    "\n",
    "# Adding legend\n",
    "plt.legend()\n",
    "\n",
    "# Displaying the plot\n",
    "plt.show()"
   ]
  },
  {
   "cell_type": "code",
   "execution_count": 25,
   "metadata": {},
   "outputs": [
    {
     "data": {
      "image/png": "[encoded data removed]",
      "text/plain": [
       "<Figure size 1200x800 with 6 Axes>"
      ]
     },
     "metadata": {},
     "output_type": "display_data"
    }
   ],
   "source": [
    "import matplotlib.pyplot as plt\n",
    "\n",
    "# Create a figure and subplots\n",
    "fig, axs = plt.subplots(2, 3, figsize=(12, 8))\n",
    "\n",
    "# Data for subplots (just for illustration purposes)\n",
    "x = [1, 2, 3, 4, 5]\n",
    "y = [2, 4, 6, 8, 10]\n",
    "\n",
    "# Set names and labels for each subplot\n",
    "subplot_names = ['Subplot 1', 'Subplot 2', 'Subplot 3', 'Subplot 4', 'Subplot 5', 'Subplot 6']\n",
    "subplot_labels = [('X1', 'Y1'), ('X2', 'Y2'), ('X3', 'Y3'), ('X4', 'Y4'), ('X5', 'Y5'), ('X6', 'Y6')]\n",
    "\n",
    "for i, ax in enumerate(axs.flatten()):\n",
    "    ax.plot(x, y)\n",
    "    ax.set_title(subplot_names[i])\n",
    "    ax.set_xlabel(subplot_labels[i][0])\n",
    "    ax.set_ylabel(subplot_labels[i][1])\n",
    "\n",
    "# Adjust spacing between subplots\n",
    "plt.tight_layout()\n",
    "\n",
    "# Show the figure\n",
    "plt.show()\n"
   ]
  },
  {
   "cell_type": "code",
   "execution_count": 28,
   "metadata": {},
   "outputs": [
    {
     "data": {
      "text/plain": [
       "array([<Axes: title={'center': 'Subplot 1'}, xlabel='X1', ylabel='Y1'>,\n",
       "       <Axes: title={'center': 'Subplot 2'}, xlabel='X2', ylabel='Y2'>,\n",
       "       <Axes: title={'center': 'Subplot 3'}, xlabel='X3', ylabel='Y3'>],\n",
       "      dtype=object)"
      ]
     },
     "execution_count": 28,
     "metadata": {},
     "output_type": "execute_result"
    }
   ],
   "source": [
    "axs[0]"
   ]
  },
  {
   "cell_type": "code",
   "execution_count": null,
   "metadata": {},
   "outputs": [],
   "source": []
  }
 ],
 "metadata": {
  "kernelspec": {
   "display_name": "MNEunfold3.10",
   "language": "python",
   "name": "python3"
  },
  "language_info": {
   "codemirror_mode": {
    "name": "ipython",
    "version": 3
   },
   "file_extension": ".py",
   "mimetype": "text/x-python",
   "name": "python",
   "nbconvert_exporter": "python",
   "pygments_lexer": "ipython3",
   "version": "3.10.0"
  },
  "orig_nbformat": 4
 },
 "nbformat": 4,
 "nbformat_minor": 2
}
